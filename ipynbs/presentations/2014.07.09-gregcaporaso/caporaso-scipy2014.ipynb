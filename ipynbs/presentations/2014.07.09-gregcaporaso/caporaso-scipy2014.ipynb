{
 "metadata": {
  "celltoolbar": "Slideshow",
  "name": "",
  "signature": "sha256:5e90022556bb3cc5dcdbf70cb906e0315adfff93a58e4d455116f9105086cce2"
 },
 "nbformat": 3,
 "nbformat_minor": 0,
 "worksheets": [
  {
   "cells": [
    {
     "cell_type": "markdown",
     "metadata": {
      "slideshow": {
       "slide_type": "slide"
      }
     },
     "source": [
      "# scikit-bio: core bioinformatics data structures and algorithms in Python\n",
      "\n",
      "**J Gregory Caporaso**\n",
      "\n",
      "**[caporasolab.us](http://caporasolab.us)**\n",
      "\n",
      "**[Northern Arizona University](http://nau.edu)**\n",
      "\n",
      "**[scikit-bio.org](http://scikit-bio.org)**\n",
      "\n",
      "**GitHub/Twitter**: @gregcaporaso"
     ]
    },
    {
     "cell_type": "code",
     "collapsed": false,
     "input": [
      "from __future__ import division, print_function\n",
      "from IPython.core import page\n",
      "page.page = print\n",
      "\n",
      "import warnings\n",
      "warnings.simplefilter('always')"
     ],
     "language": "python",
     "metadata": {
      "slideshow": {
       "slide_type": "skip"
      }
     },
     "outputs": [],
     "prompt_number": 1
    },
    {
     "cell_type": "markdown",
     "metadata": {
      "slideshow": {
       "slide_type": "slide"
      }
     },
     "source": [
      "# The pre-history of scikit-bio...\n",
      "\n",
      "* PyEvolve and [PyCogent](www.pycogent.org)"
     ]
    },
    {
     "cell_type": "markdown",
     "metadata": {
      "slideshow": {
       "slide_type": "fragment"
      }
     },
     "source": [
      "* [QIIME](www.qiime.org)"
     ]
    },
    {
     "cell_type": "markdown",
     "metadata": {
      "slideshow": {
       "slide_type": "fragment"
      }
     },
     "source": [
      "* [Many](http://pprospector.sourceforge.net/) [smaller](http://biocore.github.io/pynast/) [packages](http://biom-format.org/) [that](https://github.com/biocore/emperor) [build](https://github.com/biocore/tax2tree) [from](https://github.com/biocore/SitePainter) [these](http://my-microbes.qiime.org/)."
     ]
    },
    {
     "cell_type": "markdown",
     "metadata": {
      "slideshow": {
       "slide_type": "slide"
      }
     },
     "source": [
      "# Quantitative Insights Into Microbial Ecology\n",
      "## [Cited 1596 times](http://scholar.google.com/scholar?cites=16903127068530972426&as_sdt=5,44&sciodt=0,44&hl=en) since [publication in 2010](http://www.nature.com/nmeth/journal/v7/n5/full/nmeth.f.303.html)"
     ]
    },
    {
     "cell_type": "markdown",
     "metadata": {
      "slideshow": {
       "slide_type": "-"
      }
     },
     "source": [
      "![img](qiime-cites.png)"
     ]
    },
    {
     "cell_type": "markdown",
     "metadata": {
      "slideshow": {
       "slide_type": "slide"
      }
     },
     "source": [
      "# scikit-bio: framework to make building tools like QIIME easier\n"
     ]
    },
    {
     "cell_type": "markdown",
     "metadata": {
      "slideshow": {
       "slide_type": "slide"
      }
     },
     "source": [
      "# Integration with the modern python scientific computing stack\n",
      " * All APIs follow the numpy documentation standards\n",
      " * Full PEP8 compliance for pythonic code\n",
      " * 99% test coverage (via coverage.py)\n",
      " * Native py2/py3 compatibility\n",
      " * Travis Continuous Integration testing\n",
      "\n",
      "# BSD-licensed and on GitHub"
     ]
    },
    {
     "cell_type": "markdown",
     "metadata": {
      "slideshow": {
       "slide_type": "slide"
      }
     },
     "source": [
      "# Core objects and algorithms for bioinformatics\n",
      "\n",
      "## [scikit-bio.org/docs/latest/](http://scikit-bio.org/docs/latest/)\n",
      "\n",
      "<img src=\"skbio-docs.png\" style=\"width: 600px;\"/ align=\"left\">\n"
     ]
    },
    {
     "cell_type": "markdown",
     "metadata": {
      "slideshow": {
       "slide_type": "slide"
      }
     },
     "source": [
      "# scikit-bio: education-ready and production-ready toolkit"
     ]
    },
    {
     "cell_type": "markdown",
     "metadata": {
      "slideshow": {
       "slide_type": "slide"
      }
     },
     "source": [
      "\n",
      "\n",
      "\n",
      "# An Introduction To Applied Bioinformatics\n",
      "## [applied-bioinformatics.org](http://applied-bioinformatics.org)\n",
      "## Bioinformatics education in the context of production-ready implementations\n",
      "\n",
      "<img title=\"Logo by @gregcaporaso.\" style=\"float: right; margin-left: 30px; height:400px;\" src=\"logo.png\" align=right />\n",
      "\n",
      "Bioinformatics, as I see it, is the application of the tools of computer science (things like programming languages, algorithms, and databases) to address biological problems (for example, inferring the evolutionary relationship between a group of organisms based on fragments of their genomes, or understanding if or how the community of microorganisms that live in my gut changes if I modify my diet). Bioinformatics is a rapidly growing field, largely in response to the vast increase in the quantity of data that biologists now grapple with. Students from varied disciplines (e.g., biology, computer science, statistics, and biochemistry) and stages of their educational careers (undergraduate, graduate, or postdoctoral) are becoming interested in bioinformatics.\n",
      "\n",
      "I teach bioinformatics at the undergraduate and graduate levels at Northern Arizona University. This repository contains some of the materials that I've developed in these courses, and represents an initial attempt to organize these materials in a standalone way. If you'd like to read a little more about the project, see my [blog post](http://microbe.net/2014/05/01/teaching-bioinformatics-using-ipython-notebooks/) on [microbe.net](http://microbe.net).\n",
      "\n",
      "Disclaimer\n",
      "----------\n",
      "\n",
      "**This project is in very early development stage.** It's not ready for prime-time by any means, but I fall firmly into the \"publish early, publish often\" mindset, hence its public availability. I am very interested in feedback in the form of email (gregcaporaso@gmail.com) or [pull requests](https://help.github.com/articles/using-pull-requests).\n",
      "\n",
      "The code in the iab module is **not sufficiently tested, documented, or optimized for production use**. As code reaches those quality standards it will be ported to [scikit-bio](http://www.scikit-bio.org). I do not recommend using the code in the iab module outside of these notebooks. In other words, don't `import iab` outside of the notebooks - if you want access to the functionality in your own code, you should `import skbio`.\n",
      "\n",
      "Currently, the **best example of where I'm hoping to go with these materials** is the [multiple sequence alignment](http://nbviewer.ipython.org/github/gregcaporaso/An-Introduction-To-Applied-Bioinformatics/blob/master/algorithms/4-multiple-sequence-alignment.ipynb) chapter.\n"
     ]
    },
    {
     "cell_type": "markdown",
     "metadata": {
      "slideshow": {
       "slide_type": "slide"
      }
     },
     "source": [
      "\n",
      "\n",
      "\n",
      "# An Introduction To Applied Bioinformatics\n",
      "## [applied-bioinformatics.org](http://applied-bioinformatics.org)\n",
      "\n",
      "![img](iab-example.png)"
     ]
    },
    {
     "cell_type": "markdown",
     "metadata": {
      "slideshow": {
       "slide_type": "slide"
      }
     },
     "source": [
      "# Detailed API documentation, so accesible to new users..."
     ]
    },
    {
     "cell_type": "code",
     "collapsed": false,
     "input": [
      "from skbio.core.alignment.pairwise import local_pairwise_align_nucleotide\n",
      "\n",
      "local_pairwise_align_nucleotide?"
     ],
     "language": "python",
     "metadata": {
      "slideshow": {
       "slide_type": "-"
      }
     },
     "outputs": [
      {
       "output_type": "stream",
       "stream": "stdout",
       "text": [
        "\u001b[0;31mType:        \u001b[0mfunction\n",
        "\u001b[0;31mString form: \u001b[0m<function local_pairwise_align_nucleotide at 0x106d3a5f0>\n",
        "\u001b[0;31mFile:        \u001b[0m/Users/caporaso/code/skbio/skbio/core/alignment/pairwise.py\n",
        "\u001b[0;31mDefinition:  \u001b[0m\u001b[0mlocal_pairwise_align_nucleotide\u001b[0m\u001b[0;34m(\u001b[0m\u001b[0mseq1\u001b[0m\u001b[0;34m,\u001b[0m \u001b[0mseq2\u001b[0m\u001b[0;34m,\u001b[0m \u001b[0mgap_open_penalty\u001b[0m\u001b[0;34m=\u001b[0m\u001b[0;36m5\u001b[0m\u001b[0;34m,\u001b[0m \u001b[0mgap_extend_penalty\u001b[0m\u001b[0;34m=\u001b[0m\u001b[0;36m2\u001b[0m\u001b[0;34m,\u001b[0m \u001b[0mmatch_score\u001b[0m\u001b[0;34m=\u001b[0m\u001b[0;36m2\u001b[0m\u001b[0;34m,\u001b[0m \u001b[0mmismatch_score\u001b[0m\u001b[0;34m=\u001b[0m\u001b[0;34m-\u001b[0m\u001b[0;36m3\u001b[0m\u001b[0;34m,\u001b[0m \u001b[0msubstitution_matrix\u001b[0m\u001b[0;34m=\u001b[0m\u001b[0mNone\u001b[0m\u001b[0;34m)\u001b[0m\u001b[0;34m\u001b[0m\u001b[0m\n",
        "\u001b[0;31mDocstring:\u001b[0m\n",
        "Locally align exactly two nucleotide seqs with Smith-Waterman\n",
        "\n",
        "Parameters\n",
        "----------\n",
        "seq1 : str or BiologicalSequence\n",
        "    The first unaligned sequence.\n",
        "seq2 : str or BiologicalSequence\n",
        "    The second unaligned sequence.\n",
        "gap_open_penalty : int or float, optional\n",
        "    Penalty for opening a gap (this is substracted from previous best\n",
        "    alignment score, so is typically positive).\n",
        "gap_extend_penalty : int or float, optional\n",
        "    Penalty for extending a gap (this is substracted from previous best\n",
        "    alignment score, so is typically positive).\n",
        "match_score : int or float, optional\n",
        "    The score to add for a match between a pair of bases (this is added\n",
        "    to the previous best alignment score, so is typically positive).\n",
        "mismatch_score : int or float, optional\n",
        "    The score to add for a mismatch between a pair of bases (this is\n",
        "    added to the previous best alignment score, so is typically\n",
        "    negative).\n",
        "substitution_matrix: 2D dict (or similar)\n",
        "    Lookup for substitution scores (these values are added to the\n",
        "    previous best alignment score). If provided, this overrides\n",
        "    ``match_score`` and ``mismatch_score``.\n",
        "\n",
        "Returns\n",
        "-------\n",
        "skbio.Alignment\n",
        "    ``Alignment`` object containing the aligned sequences as well as\n",
        "    details about the alignment.\n",
        "\n",
        "See Also\n",
        "--------\n",
        "local_pairwise_align\n",
        "local_pairwise_align_protein\n",
        "skbio.core.alignment.local_pairwise_align_ssw\n",
        "global_pairwise_align\n",
        "global_pairwise_align_protein\n",
        "global_pairwise_align_nucelotide\n",
        "\n",
        "Notes\n",
        "-----\n",
        "Default ``match_score``, ``mismatch_score``, ``gap_open_penalty`` and\n",
        "``gap_extend_penalty`` parameters are derived from the NCBI BLAST\n",
        "Server [1]_.\n",
        "\n",
        "References\n",
        "----------\n",
        ".. [1] http://blast.ncbi.nlm.nih.gov/Blast.cgi\n"
       ]
      }
     ],
     "prompt_number": 2
    },
    {
     "cell_type": "markdown",
     "metadata": {
      "slideshow": {
       "slide_type": "slide"
      }
     },
     "source": [
      "# ... and that documentation is also of course available on the web"
     ]
    },
    {
     "cell_type": "markdown",
     "metadata": {},
     "source": [
      "![img](skbio-alignment-docs.png)"
     ]
    },
    {
     "cell_type": "markdown",
     "metadata": {
      "slideshow": {
       "slide_type": "slide"
      }
     },
     "source": [
      "# We can easily apply these python aligners"
     ]
    },
    {
     "cell_type": "code",
     "collapsed": false,
     "input": [
      "from skbio.core.alignment.pairwise import local_pairwise_align_nucleotide\n",
      "\n",
      "s1 = \"ACTAAGGCTCTCTACCCCTCTCAGAGA\"\n",
      "s2 = \"AAAAAACTCTCTAAACTCACTAAGGCTCTCTACCCCTCTTCAGAGAAGTCGA\"\n",
      "r = local_pairwise_align_nucleotide(s1, s2)\n",
      "print(type(r))\n",
      "print(r)"
     ],
     "language": "python",
     "metadata": {
      "slideshow": {
       "slide_type": "-"
      }
     },
     "outputs": [
      {
       "output_type": "stream",
       "stream": "stdout",
       "text": [
        "<class 'skbio.core.alignment.alignment.Alignment'>\n",
        ">0\n",
        "ACTAAGGCTCTCTACCCCTC-TCAGAGA\n",
        ">1\n",
        "ACTAAGGCTCTCTACCCCTCTTCAGAGA\n",
        "\n"
       ]
      },
      {
       "output_type": "stream",
       "stream": "stderr",
       "text": [
        "/Users/caporaso/code/skbio/skbio/core/alignment/pairwise.py:300: EfficiencyWarning: You're using skbio's python implementation of Smith-Waterman alignment. This will be very slow (e.g., thousands of times slower) than skbio.core.alignment.local_pairwise_align_ssw.\n",
        "  EfficiencyWarning)\n"
       ]
      }
     ],
     "prompt_number": 3
    },
    {
     "cell_type": "code",
     "collapsed": false,
     "input": [
      "from skbio import DNA\n",
      "\n",
      "s1 = DNA(\"ACTAAGGCTCTCTACCCCTCTCAGAGA\", \"query\")\n",
      "s2 = DNA(\"AAAAAACTCTCTAAACTCACTAAGGCTCTCTACCCCTCTTCAGAGAAGTCGA\", \"target\")\n",
      "r = local_pairwise_align_nucleotide(s1, s2)\n",
      "print(type(r))\n",
      "print(r)"
     ],
     "language": "python",
     "metadata": {
      "slideshow": {
       "slide_type": "-"
      }
     },
     "outputs": [
      {
       "output_type": "stream",
       "stream": "stdout",
       "text": [
        "<class 'skbio.core.alignment.alignment.Alignment'>\n",
        ">query\n",
        "ACTAAGGCTCTCTACCCCTC-TCAGAGA\n",
        ">target\n",
        "ACTAAGGCTCTCTACCCCTCTTCAGAGA\n",
        "\n"
       ]
      },
      {
       "output_type": "stream",
       "stream": "stderr",
       "text": [
        "/Users/caporaso/code/skbio/skbio/core/alignment/pairwise.py:300: EfficiencyWarning: You're using skbio's python implementation of Smith-Waterman alignment. This will be very slow (e.g., thousands of times slower) than skbio.core.alignment.local_pairwise_align_ssw.\n",
        "  EfficiencyWarning)\n"
       ]
      }
     ],
     "prompt_number": 4
    },
    {
     "cell_type": "markdown",
     "metadata": {
      "slideshow": {
       "slide_type": "slide"
      }
     },
     "source": [
      "# But, can't use python for implementing alignment for production code, so provide Cython wrappers with matching interfaces"
     ]
    },
    {
     "cell_type": "code",
     "collapsed": false,
     "input": [
      "from skbio.core.alignment import local_pairwise_align_ssw\n",
      "local_pairwise_align_ssw?"
     ],
     "language": "python",
     "metadata": {
      "slideshow": {
       "slide_type": "-"
      }
     },
     "outputs": [
      {
       "output_type": "stream",
       "stream": "stdout",
       "text": [
        "\u001b[0;31mType:        \u001b[0mbuiltin_function_or_method\n",
        "\u001b[0;31mString form: \u001b[0m<built-in function local_pairwise_align_ssw>\n",
        "\u001b[0;31mDocstring:\u001b[0m\n",
        "Align query and target sequences with Striped Smith-Waterman.\n",
        "\n",
        "Parameters\n",
        "----------\n",
        "sequence1 : str or BiologicalSequence\n",
        "    The first unaligned sequence\n",
        "sequence2 : str or BiologicalSequence\n",
        "    The second unaligned sequence\n",
        "\n",
        "Returns\n",
        "-------\n",
        "``skbio.core.alignment.Alignment``\n",
        "    The resulting alignment as an Alignment object\n",
        "\n",
        "Notes\n",
        "-----\n",
        "For a complete list of optional keyword-arguments that can be provided,\n",
        "see ``skbio.core.alignment.StripedSmithWaterman``.\n",
        "\n",
        "The following kwargs will not have any effect: `suppress_sequences` and\n",
        "`zero_index`\n",
        "\n",
        "If an alignment does not meet a provided filter, `None` will be returned.\n",
        "\n",
        "See Also\n",
        "--------\n",
        "skbio.core.alignment.StripedSmithWaterman\n"
       ]
      }
     ],
     "prompt_number": 5
    },
    {
     "cell_type": "code",
     "collapsed": false,
     "input": [
      "r = local_pairwise_align_ssw(s1, s2)\n",
      "print(type(r))\n",
      "print(r)"
     ],
     "language": "python",
     "metadata": {
      "slideshow": {
       "slide_type": "-"
      }
     },
     "outputs": [
      {
       "output_type": "stream",
       "stream": "stdout",
       "text": [
        "<class 'skbio.core.alignment.alignment.Alignment'>\n",
        ">query\n",
        "ACTAAGGCTCTCTACCCCTC-TCAGAGA\n",
        ">target\n",
        "ACTAAGGCTCTCTACCCCTCTTCAGAGA\n",
        "\n"
       ]
      }
     ],
     "prompt_number": 6
    },
    {
     "cell_type": "markdown",
     "metadata": {
      "slideshow": {
       "slide_type": "slide"
      }
     },
     "source": [
      "# As expected, the C/Cython code is much faster..."
     ]
    },
    {
     "cell_type": "code",
     "collapsed": false,
     "input": [
      "from skbio.parse.sequences import parse_fasta\n",
      "from skbio import SequenceCollection\n",
      "from random import choice\n",
      "gg_path = \"/Users/caporaso/data/gg_13_8_otus/rep_set/73_otus.fasta\"\n",
      "\n",
      "s = SequenceCollection.from_fasta_records([(i, s) for i, s in parse_fasta(gg_path) if set(s) == set('ACGT')], DNA)"
     ],
     "language": "python",
     "metadata": {
      "slideshow": {
       "slide_type": "-"
      }
     },
     "outputs": [],
     "prompt_number": 7
    },
    {
     "cell_type": "code",
     "collapsed": false,
     "input": [
      "%timeit local_pairwise_align_ssw(choice(s), choice(s), gap_open_penalty=5,\\\n",
      "                                 gap_extend_penalty=2, match_score=2, mismatch_score=-3)"
     ],
     "language": "python",
     "metadata": {
      "slideshow": {
       "slide_type": "-"
      }
     },
     "outputs": [
      {
       "output_type": "stream",
       "stream": "stdout",
       "text": [
        "100 loops, best of 3: 5.02 ms per loop\n"
       ]
      }
     ],
     "prompt_number": 8
    },
    {
     "cell_type": "code",
     "collapsed": false,
     "input": [
      "warnings.simplefilter('ignore')\n",
      "%timeit local_pairwise_align_nucleotide(choice(s), choice(s), gap_open_penalty=5,\\\n",
      "                                        gap_extend_penalty=2, match_score=2, mismatch_score=-3)"
     ],
     "language": "python",
     "metadata": {
      "slideshow": {
       "slide_type": "-"
      }
     },
     "outputs": [
      {
       "output_type": "stream",
       "stream": "stdout",
       "text": [
        "1 loops, best of 3: 18.7 s per loop\n"
       ]
      }
     ],
     "prompt_number": 9
    },
    {
     "cell_type": "markdown",
     "metadata": {
      "slideshow": {
       "slide_type": "slide"
      }
     },
     "source": [
      "# scikit-bio: simpler bioinformatics pipeline development\n",
      "\n",
      "## We'll re-create QIIME's [beta_diversity_through_plots.py](http://qiime.org/scripts/beta_diversity_through_plots.html) workflow."
     ]
    },
    {
     "cell_type": "markdown",
     "metadata": {
      "slideshow": {
       "slide_type": "slide"
      }
     },
     "source": [
      "# We start by creating a table that counts the abundance of different species in six samples."
     ]
    },
    {
     "cell_type": "code",
     "collapsed": false,
     "input": [
      "from skbio.math.diversity.beta import pw_distances\n",
      "import numpy as np\n",
      "data = [[23, 64, 14, 0, 0, 3, 1],\n",
      "        [0, 3, 35, 42, 0, 12, 1],\n",
      "        [0, 5, 5, 0, 40, 40, 0],\n",
      "        [44, 35, 9, 0, 1, 0, 0],\n",
      "        [0, 2, 8, 0, 35, 45, 1],\n",
      "        [0, 0, 25, 35, 0, 19, 0]]\n",
      "ids = list('ABCDEF')"
     ],
     "language": "python",
     "metadata": {},
     "outputs": [],
     "prompt_number": 10
    },
    {
     "cell_type": "markdown",
     "metadata": {
      "slideshow": {
       "slide_type": "slide"
      }
     },
     "source": [
      "# As with most studies, the results aren't interesting unless they're in context. We'll create a metadata table using pandas."
     ]
    },
    {
     "cell_type": "code",
     "collapsed": false,
     "input": [
      "import pandas as pd\n",
      "sample_md = {\n",
      "   'A': {'body_site': 'gut', 'subject': '1'},\n",
      "   'B': {'body_site': 'skin', 'subject': '1'},\n",
      "   'C': {'body_site': 'tongue', 'subject': '1'},\n",
      "   'D': {'body_site': 'gut', 'subject': '2'},\n",
      "   'E': {'body_site': 'tongue', 'subject': '2'},\n",
      "   'F': {'body_site': 'skin', 'subject': '2'}}\n",
      "sample_md = pd.DataFrame.from_dict(sample_md, orient='index')\n",
      "sample_md"
     ],
     "language": "python",
     "metadata": {},
     "outputs": [
      {
       "html": [
        "<div style=\"max-height:1000px;max-width:1500px;overflow:auto;\">\n",
        "<table border=\"1\" class=\"dataframe\">\n",
        "  <thead>\n",
        "    <tr style=\"text-align: right;\">\n",
        "      <th></th>\n",
        "      <th>subject</th>\n",
        "      <th>body_site</th>\n",
        "    </tr>\n",
        "  </thead>\n",
        "  <tbody>\n",
        "    <tr>\n",
        "      <th>A</th>\n",
        "      <td> 1</td>\n",
        "      <td>    gut</td>\n",
        "    </tr>\n",
        "    <tr>\n",
        "      <th>B</th>\n",
        "      <td> 1</td>\n",
        "      <td>   skin</td>\n",
        "    </tr>\n",
        "    <tr>\n",
        "      <th>C</th>\n",
        "      <td> 1</td>\n",
        "      <td> tongue</td>\n",
        "    </tr>\n",
        "    <tr>\n",
        "      <th>D</th>\n",
        "      <td> 2</td>\n",
        "      <td>    gut</td>\n",
        "    </tr>\n",
        "    <tr>\n",
        "      <th>E</th>\n",
        "      <td> 2</td>\n",
        "      <td> tongue</td>\n",
        "    </tr>\n",
        "    <tr>\n",
        "      <th>F</th>\n",
        "      <td> 2</td>\n",
        "      <td>   skin</td>\n",
        "    </tr>\n",
        "  </tbody>\n",
        "</table>\n",
        "<p>6 rows \u00d7 2 columns</p>\n",
        "</div>"
       ],
       "metadata": {},
       "output_type": "pyout",
       "prompt_number": 11,
       "text": [
        "  subject body_site\n",
        "A       1       gut\n",
        "B       1      skin\n",
        "C       1    tongue\n",
        "D       2       gut\n",
        "E       2    tongue\n",
        "F       2      skin\n",
        "\n",
        "[6 rows x 2 columns]"
       ]
      }
     ],
     "prompt_number": 11
    },
    {
     "cell_type": "markdown",
     "metadata": {
      "slideshow": {
       "slide_type": "slide"
      }
     },
     "source": [
      "# We now have taxa profiles and sample metadata. Does any sample metadata explain sample similarity?\n",
      "\n",
      "## (Here we have 6 samples and 7 taxa, but our current record is 15,000 samples and 5.6 million taxa.)"
     ]
    },
    {
     "cell_type": "code",
     "collapsed": false,
     "input": [
      "print(sample_md)\n",
      "for e in data:\n",
      "    print(e)"
     ],
     "language": "python",
     "metadata": {},
     "outputs": [
      {
       "output_type": "stream",
       "stream": "stdout",
       "text": [
        "  subject body_site\n",
        "A       1       gut\n",
        "B       1      skin\n",
        "C       1    tongue\n",
        "D       2       gut\n",
        "E       2    tongue\n",
        "F       2      skin\n",
        "\n",
        "[6 rows x 2 columns]\n",
        "[23, 64, 14, 0, 0, 3, 1]\n",
        "[0, 3, 35, 42, 0, 12, 1]\n",
        "[0, 5, 5, 0, 40, 40, 0]\n",
        "[44, 35, 9, 0, 1, 0, 0]\n",
        "[0, 2, 8, 0, 35, 45, 1]\n",
        "[0, 0, 25, 35, 0, 19, 0]\n"
       ]
      }
     ],
     "prompt_number": 12
    },
    {
     "cell_type": "markdown",
     "metadata": {
      "slideshow": {
       "slide_type": "slide"
      }
     },
     "source": [
      "# Using scikit-bio and scipy, we can then compute pairwise distances between the samples"
     ]
    },
    {
     "cell_type": "code",
     "collapsed": false,
     "input": [
      "bc_dm = pw_distances(data, ids, \"braycurtis\")\n",
      "print(bc_dm)"
     ],
     "language": "python",
     "metadata": {},
     "outputs": [
      {
       "output_type": "stream",
       "stream": "stdout",
       "text": [
        "6x6 distance matrix\n",
        "IDs:\n",
        "A, B, C, D, E, F\n",
        "Data:\n",
        "[[ 0.          0.78787879  0.86666667  0.30927835  0.85714286  0.81521739]\n",
        " [ 0.78787879  0.          0.78142077  0.86813187  0.75        0.1627907 ]\n",
        " [ 0.86666667  0.78142077  0.          0.87709497  0.09392265  0.71597633]\n",
        " [ 0.30927835  0.86813187  0.87709497  0.          0.87777778  0.89285714]\n",
        " [ 0.85714286  0.75        0.09392265  0.87777778  0.          0.68235294]\n",
        " [ 0.81521739  0.1627907   0.71597633  0.89285714  0.68235294  0.        ]]\n"
       ]
      }
     ],
     "prompt_number": 13
    },
    {
     "cell_type": "markdown",
     "metadata": {
      "slideshow": {
       "slide_type": "slide"
      }
     },
     "source": [
      "# And create ordination plots using scikit-bio and matplotlib"
     ]
    },
    {
     "cell_type": "code",
     "collapsed": false,
     "input": [
      "import matplotlib.pyplot as plt\n",
      "from mpl_toolkits.mplot3d import Axes3D\n",
      "from skbio.math.stats.ordination import PCoA\n",
      "bc_pc = PCoA(bc_dm).scores()\n",
      "\n",
      "def scatter_3d(ord_results, df, column, color_map, title='', axis1=0,\n",
      "               axis2=1, axis3=2):\n",
      "   \"\"\"Adapted from Matplotlib Gallery:\n",
      "   http://matplotlib.org/examples/mplot3d/scatter3d_demo.html\n",
      "   \"\"\"\n",
      "   coord_matrix = ord_results.site.T\n",
      "   ids = ord_results.site_ids\n",
      "   colors = [color_map[df[column][id_]] for id_ in ord_results.site_ids]\n",
      "\n",
      "   fig = plt.figure()\n",
      "   ax = fig.add_subplot(111, projection='3d')\n",
      "\n",
      "   xs = coord_matrix[axis1]\n",
      "   ys = coord_matrix[axis2]\n",
      "   zs = coord_matrix[axis3]\n",
      "   plot = ax.scatter(xs, ys, zs, c=colors, s=150)\n",
      "\n",
      "   ax.set_xlabel('PC %d' % (axis1 + 1))\n",
      "   ax.set_ylabel('PC %d' % (axis2 + 1))\n",
      "   ax.set_zlabel('PC %d' % (axis3 + 1))\n",
      "   ax.set_xticklabels([])\n",
      "   ax.set_yticklabels([])\n",
      "   ax.set_zticklabels([])\n",
      "   ax.set_title(title)\n",
      "   return fig"
     ],
     "language": "python",
     "metadata": {},
     "outputs": [],
     "prompt_number": 33
    },
    {
     "cell_type": "code",
     "collapsed": false,
     "input": [
      "fig = scatter_3d(bc_pc, sample_md, 'subject', {'1': 'yellow', '2': 'purple'},\n",
      "                 'Samples colored by subject')"
     ],
     "language": "python",
     "metadata": {},
     "outputs": [
      {
       "metadata": {},
       "output_type": "display_data",
       "png": "[encoded data removed]",
       "text": [
        "<matplotlib.figure.Figure at 0x10a1c5810>"
       ]
      }
     ],
     "prompt_number": 40
    },
    {
     "cell_type": "code",
     "collapsed": false,
     "input": [
      "plt.close('all') # not necessary for normal use\n",
      "fig = scatter_3d(bc_pc, sample_md, 'body_site',\n",
      "                 {'gut': 'b', 'skin': 'r', 'tongue': 'g'},\n",
      "                 'Samples colored by body site')"
     ],
     "language": "python",
     "metadata": {},
     "outputs": [
      {
       "metadata": {},
       "output_type": "display_data",
       "png": "[encoded data removed]",
       "text": [
        "<matplotlib.figure.Figure at 0x10a07f850>"
       ]
      }
     ],
     "prompt_number": 35
    },
    {
     "cell_type": "markdown",
     "metadata": {
      "slideshow": {
       "slide_type": "slide"
      }
     },
     "source": [
      "# And finally run stats to determine if clustering patterns are signficiant"
     ]
    },
    {
     "cell_type": "code",
     "collapsed": false,
     "input": [
      "from skbio.math.stats.distance import ANOSIM\n",
      "anosim = ANOSIM(bc_dm, sample_md, column='subject')\n",
      "results = anosim(999)\n",
      "print(results.statistic)\n",
      "\n",
      "print(results.p_value < 0.05)"
     ],
     "language": "python",
     "metadata": {},
     "outputs": [
      {
       "output_type": "stream",
       "stream": "stdout",
       "text": [
        "-0.407407407407\n",
        "False\n"
       ]
      }
     ],
     "prompt_number": 17
    },
    {
     "cell_type": "code",
     "collapsed": false,
     "input": [
      "anosim = ANOSIM(bc_dm, sample_md, column='body_site')\n",
      "results = anosim(999)\n",
      "print(results.statistic)\n",
      "\n",
      "print(results.p_value < 0.1)"
     ],
     "language": "python",
     "metadata": {},
     "outputs": [
      {
       "output_type": "stream",
       "stream": "stdout",
       "text": [
        "1.0\n",
        "True\n"
       ]
      }
     ],
     "prompt_number": 18
    },
    {
     "cell_type": "markdown",
     "metadata": {
      "slideshow": {
       "slide_type": "slide"
      }
     },
     "source": [
      "# And these are the types of examples that we document:"
     ]
    },
    {
     "cell_type": "markdown",
     "metadata": {},
     "source": [
      "![img](skbio-bdiv-docs.png)"
     ]
    },
    {
     "cell_type": "markdown",
     "metadata": {
      "slideshow": {
       "slide_type": "slide"
      }
     },
     "source": [
      "# Finally, for fun (and to show the generalizability of scikit-bio):\n",
      "\n",
      "<center>\n",
      "## can we model the \"evolutionary\" relationships between languages based on phonetically spelled phrases in that language?"
     ]
    },
    {
     "cell_type": "markdown",
     "metadata": {
      "slideshow": {
       "slide_type": "slide"
      }
     },
     "source": [
      "# Let's start with a list containing tuples of: \n",
      "\n",
      "<pre>\n",
      "   (name of language, \n",
      "    spelling of phrase for ordering a beer,\n",
      "    phonetic phrase for ordering a beer)\n",
      "</pre>\n",
      "\n",
      "[[Source](http://esperanto-usa.org/en/content/how-order-beer-47-languages)]"
     ]
    },
    {
     "cell_type": "code",
     "collapsed": false,
     "input": [
      "languages = [(\"Afrikaans\", \"'n Bier, asseblief\", \"A beer ah-suh-bleef\"),\n",
      " (\"Basque\", \"Garagardo bat, mesedez\", \"Gara-gardo bat mese-des\"),\n",
      " (\"Breton\", \"Ur banne bier am bo, mar plij\", \"Oor bah-ne beer am boh mar pleezh\"),\n",
      " (\"Catalan\", \"Una cervesa, si us plau\", \"Oona servayzeh see oos plow\"),\n",
      " (\"Croatian\", \"Jedno pivo, molim\", \"Yed-no pee-vo, mo-lim\"),\n",
      " (\"Czech / Slovak\", \"Pivo, pros\u00edm\", \"Pee-vo, pro-seem\"),\n",
      " (\"Danish\", \"Jeg vil gerne have en \u00f8l\", \"Yay vil geh-neh heh en url\"),\n",
      " (\"Dutch\", \"Een bier, alsjeblieft\", \"Un beer, ahls-yer-bleeft\"),\n",
      " (\"English\", \"One beer, please\", \"Wun beer, pleez\"),\n",
      " (\"Esperanto\", \"Unu bieron, mi petas\", \"Oo-noo bee-airon, mee peh-tahs\"),\n",
      " (\"Estonian\", \"\u00dcks \u00f5lu, palun\", \"Ooks ur-loo, pah-lun\"),\n",
      " (\"Finnish\", \"Olut mulle, kiitos\", \"O-loot moolek kee-tos\"),\n",
      " (\"French\", \"Une bi\u00e8re, s'il vous pla\u00eet\", \"Oon bee-air, seel voo pleh\"),\n",
      " (\"German\", \"Ein Bier, bitte\", \"Ine beer, bitt-uh\"),\n",
      " (\"Hungarian\", \"Egy poh\u00e1r s\u00f6rt k\u00e9rek\", \"Edj pohar shurt kayrek\"),\n",
      " (\"Icelandic\", \"Einn bj\u00f3r, takk\", \"Ay-dn byohr tahk\"),\n",
      " (\"Irish\", \"Beoir amh\u00e1in, le do thoil\", \"Byohr awoyn, lyeh doh hull\"),\n",
      " (\"Italian\", \"Una birra, per favore\", \"Oo-na beer-ra, pair fa-vo-re\"),\n",
      " (\"Latin\", \"Cervisiam, sodes\", \"Ker-wi-see-am, soh-dehs\"),\n",
      " (\"Latvian\", \"Vienu alu, l\u016b-dzu\", \"Vyeh-noo ah-loo, loo dzoo\"),\n",
      " (\"Lithuanian\", \"Pra\u0161au viena alaus\", \"Pra-shau vie-na al-lows\"),\n",
      " (\"Maltese\", \"Wiehed birra, jekk jghogbok\", \"Wee-het bir-ra yek yoh-dzbok\"),\n",
      " (\"Norwegian\", \"En \u00f8l, takk\", \"Ehn url tahk\"),\n",
      " (\"Occitan\", \"Una cervesa, se vos plai\", \"Oo-no serbeh-zo se bus ply\"),\n",
      " (\"Polish\", \"Jedno piwo, prosz\u0119\", \"Yed-no peevo proshe\"),\n",
      " (\"Portuguese\", \"Uma cerveja, por favor\", \"Oo-ma ser-vay-ja, poor fa-vohr\"),\n",
      " (\"Romansch Ladina\", \"\u00dcna biera, per plaschair.\", \"Oo-nuh bee-air-uh per plah-chair\"),\n",
      " (\"Sardinian\", \"Una birra, po piaghere\", \"Oo-na beer-ra po pia-gehre\"),\n",
      " (\"Scots Gaelic\", \"Leann, mas e do thoil e\", \"Lyawn mahs eh doh hawl eh\"),\n",
      " (\"Slovene\", \"Eno pivo, prosim\", \"Eno pee-vo pro-seem\"),\n",
      " (\"Spanish (Lat. Am.)\", \"Una cerveza, por favor\", \"Oo-na ser-veh-sa, por fa-vor\"),\n",
      " (\"Spanish (Spain)\", \"Una cerveza, por favor\", \"Oo-na thair-veh-tha, por fa-vor\"),\n",
      " (\"Strine\", \"Foster's, mate\", \"Faw-stuhz, mayt\"),\n",
      " (\"Swedish\", \"En \u00f6l, tack\", \"Ehn irl, tahk\"),\n",
      " (\"Twi\", \"Mame beer baako, mi pawokyew\", \"Mah-me bee-ye bah-ko mee pow-che-oo\"),\n",
      " (\"Turkish\", \"Bir bira, l\u00fctfen\", \"Beer beer-ah luht-fen\"),\n",
      " (\"Welsh\", \"Cwrw os gwelwch in dda\", \"Koo-roh ohs gwel-ookh-un-thah\")]"
     ],
     "language": "python",
     "metadata": {},
     "outputs": [],
     "prompt_number": 19
    },
    {
     "cell_type": "markdown",
     "metadata": {
      "slideshow": {
       "slide_type": "skip"
      }
     },
     "source": [
      "# We'll build a basic nucleotide-like substitution matrix"
     ]
    },
    {
     "cell_type": "code",
     "collapsed": false,
     "input": [
      "language_to_pron = [(e[0], e[1]) for e in languages]\n",
      "\n",
      "all_pron_chars = []\n",
      "for e in language_to_pron:\n",
      "    all_pron_chars += list(e[1])\n",
      "all_pron_chars = set(all_pron_chars)\n",
      "\n",
      "pron_substitution_matrix = {}\n",
      "for c in all_pron_chars:\n",
      "    row = {}.fromkeys(all_pron_chars, -2.0)\n",
      "    row[c] = 5.0\n",
      "    pron_substitution_matrix[c] = row"
     ],
     "language": "python",
     "metadata": {
      "slideshow": {
       "slide_type": "skip"
      }
     },
     "outputs": [],
     "prompt_number": 20
    },
    {
     "cell_type": "markdown",
     "metadata": {
      "slideshow": {
       "slide_type": "slide"
      }
     },
     "source": [
      "# And we'll compute all pairwise alignments and distances"
     ]
    },
    {
     "cell_type": "code",
     "collapsed": false,
     "input": [
      "warnings.simplefilter('ignore')\n",
      "from skbio.core.alignment.pairwise import global_pairwise_align\n",
      "from skbio import DistanceMatrix\n",
      "\n",
      "dm = zeros((len(language_to_pron), len(language_to_pron)))\n",
      "alignments = {}\n",
      "for i in range(len(language_to_pron)):\n",
      "    language1_id = language_to_pron[i][0] \n",
      "    language1_phrase = language_to_pron[i][1]\n",
      "    alignments[language1_id] = {}\n",
      "    for j in range(i):\n",
      "        language2_id = language_to_pron[j][0] \n",
      "        language2_phrase = language_to_pron[j][1]\n",
      "        a = global_pairwise_align(language1_phrase, language2_phrase,\n",
      "                                 gap_open_penalty=5, gap_extend_penalty=2,\n",
      "                                 substitution_matrix=pron_substitution_matrix)\n",
      "        dm[i, j] = dm[j, i] = a[0].distance(a[1])\n",
      "        alignments[language1_id][language2_id] = a\n",
      "\n",
      "dm = DistanceMatrix(dm, ids=[e[0] for e in language_to_pron])"
     ],
     "language": "python",
     "metadata": {},
     "outputs": [],
     "prompt_number": 21
    },
    {
     "cell_type": "code",
     "collapsed": false,
     "input": [
      "print(alignments[\"Swedish\"][\"Norwegian\"].to_fasta())\n",
      "print(\"Hamming distance: %1.3f\" % dm[\"Swedish\", \"Norwegian\"])"
     ],
     "language": "python",
     "metadata": {},
     "outputs": [
      {
       "output_type": "stream",
       "stream": "stdout",
       "text": [
        ">0\n",
        "En \u00f6l, tack\n",
        ">1\n",
        "En \u00f8l, takk\n",
        "\n",
        "Hamming distance: 0.167\n"
       ]
      }
     ],
     "prompt_number": 22
    },
    {
     "cell_type": "code",
     "collapsed": false,
     "input": [
      "print(alignments[\"Swedish\"][\"Icelandic\"].to_fasta())\n",
      "print(\"Hamming distance: %1.3f\" % dm[\"Swedish\", \"Icelandic\"])"
     ],
     "language": "python",
     "metadata": {},
     "outputs": [
      {
       "output_type": "stream",
       "stream": "stdout",
       "text": [
        ">0\n",
        "E--n --\u00f6l, tack\n",
        ">1\n",
        "Einn bj\u00f3r, takk\n",
        "\n",
        "Hamming distance: 0.438\n"
       ]
      }
     ],
     "prompt_number": 23
    },
    {
     "cell_type": "code",
     "collapsed": false,
     "input": [
      "print(alignments[\"Spanish (Spain)\"][\"Italian\"].to_fasta())\n",
      "print(\"Hamming distance: %1.3f\" % dm[\"Italian\", \"Spanish (Spain)\"])"
     ],
     "language": "python",
     "metadata": {},
     "outputs": [
      {
       "output_type": "stream",
       "stream": "stdout",
       "text": [
        ">0\n",
        "Una cerveza, por favor-\n",
        ">1\n",
        "Una birr--a, per favore\n",
        "\n",
        "Hamming distance: 0.304\n"
       ]
      }
     ],
     "prompt_number": 24
    },
    {
     "cell_type": "markdown",
     "metadata": {
      "slideshow": {
       "slide_type": "slide"
      }
     },
     "source": [
      "# We can then build a tree to visualize relationships between languages"
     ]
    },
    {
     "cell_type": "code",
     "collapsed": false,
     "input": [
      "from scipy.cluster.hierarchy import average, dendrogram, to_tree\n",
      "\n",
      "lm = average(dm.condensed_form())\n",
      "\n",
      "def format_dendrogram(tip_count):\n",
      "    import matplotlib.pylab as plt\n",
      "    ax = plt.gca()\n",
      "    fig = plt.gcf()\n",
      "    height = tip_count * 0.5\n",
      "    if height < 3:\n",
      "        height = 3\n",
      "    fig.set_size_inches(6, height)\n",
      "    return ax\n",
      "\n",
      "format_dendrogram(dm.shape[0])\n",
      "d = dendrogram(lm, labels=dm.ids, orientation='right', \n",
      "               link_color_func=lambda x: 'black')\n"
     ],
     "language": "python",
     "metadata": {},
     "outputs": [
      {
       "metadata": {},
       "output_type": "display_data",
       "png": "[encoded data removed]",
       "text": [
        "<matplotlib.figure.Figure at 0x10a08fed0>"
       ]
      }
     ],
     "prompt_number": 25
    },
    {
     "cell_type": "markdown",
     "metadata": {
      "slideshow": {
       "slide_type": "slide"
      }
     },
     "source": [
      "# Currently in pre-alpha release stage, and working on defining our scope. "
     ]
    },
    {
     "cell_type": "markdown",
     "metadata": {
      "slideshow": {
       "slide_type": "slide"
      }
     },
     "source": [
      "# Contributors:\n",
      "\n",
      "Adam Robbins-Pianka (@adamrp)\n",
      "Antonio Gonzalez (@antgonza)\n",
      "Daniel McDonald (@wasade)\n",
      "Evan Bolyen (@ebolyen)\n",
      "Greg Caporaso (@gregcaporaso)\n",
      "Jai Ram Rideout (@ElBrogrammer)\n",
      "Jens Reeder (@jensreeder)\n",
      "Jorge Ca\u00f1ardo Alastuey (@Jorge-C)\n",
      "Jose Antonio Navas Molina (@josenavas)\n",
      "Joshua Shorenstein (@squirrelo)\n",
      "Yoshiki V\u00e1zquez Baeza (@ElDeveloper)\n",
      "@charudatta-navare\n",
      "John Chase (@johnchase)\n",
      "Karen Schwarzberg (@karenschwarzberg)\n",
      "Emily TerAvest (@teravest)\n",
      "Will Van Treuren (@wdwvt1)\n",
      "Zech Xu (@RNAer)\n",
      "\n",
      "Rob Knight (@rob-knight)\n",
      "Gavin Huttley (@gavin-huttley)\n",
      "Micah Hamady\n",
      "Sandra Smit\n",
      "Cathy Lozupone (@clozupone)\n",
      "Mike Robeson (@mikerobeson)\n",
      "Marcin Cieslik\n",
      "Peter Maxwell\n",
      "Jeremy Widmann\n",
      "Zongzhi Liu\n",
      "Michael Dwan\n",
      "Logan Knecht (@loganknecht)\n",
      "Andrew Cochran\n",
      "Jose Carlos Clemente (@cleme)\n",
      "Damien Coy\n",
      "Levi McCracken\n",
      "Andrew Butterfield\n",
      "Justin Kuczynski (@justin212k)\n",
      "Matthew Wakefield (@genomematt)\n",
      "\n",
      "![img](code-sprint-2.jpg)"
     ]
    },
    {
     "cell_type": "code",
     "collapsed": false,
     "input": [
      "import skbio\n",
      "print(skbio.title)\n",
      "print(skbio.art)"
     ],
     "language": "python",
     "metadata": {
      "slideshow": {
       "slide_type": "slide"
      }
     },
     "outputs": [
      {
       "output_type": "stream",
       "stream": "stdout",
       "text": [
        "\n",
        "               _ _    _ _          _     _\n",
        "              (_) |  (_) |        | |   (_)\n",
        "      ___  ___ _| | ___| |_ ______| |__  _  ___\n",
        "     / __|/ __| | |/ / | __|______| '_ \\| |/ _ \\\n",
        "     \\__ \\ (__| |   <| | |_       | |_) | | (_) |\n",
        "     |___/\\___|_|_|\\_\\_|\\__|      |_.__/|_|\\___/\n",
        "\n",
        "\n",
        "\n",
        "\n",
        "           Opisthokonta\n",
        "                   \\  Amoebozoa\n",
        "                    \\ /\n",
        "                     *    Euryarchaeota\n",
        "                      \\     |_ Crenarchaeota\n",
        "                       \\   *\n",
        "                        \\ /\n",
        "                         *\n",
        "                        /\n",
        "                       /\n",
        "                      /\n",
        "                     *\n",
        "                    / \\\n",
        "                   /   \\\n",
        "        Proteobacteria  \\\n",
        "                       Cyanobacteria\n",
        "\n"
       ]
      }
     ],
     "prompt_number": 26
    }
   ],
   "metadata": {}
  }
 ]
}